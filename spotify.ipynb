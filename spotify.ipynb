{
 "cells": [
  {
   "cell_type": "code",
   "execution_count": 3,
   "id": "00271a85",
   "metadata": {},
   "outputs": [],
   "source": [
    "import sqlalchemy\n",
    "import pandas as pd\n",
    "from sqlalchemy.orm import sessionmaker\n",
    "import requests \n",
    "import json\n",
    "from datetime import datetime\n",
    "import datetime\n",
    "import sqlite3\n"
   ]
  },
  {
   "cell_type": "code",
   "execution_count": 5,
   "id": "124e9ee8",
   "metadata": {},
   "outputs": [],
   "source": [
    "Database = \"sqlite:///spotify_songs.sqlite\"\n",
    "user_id = 'pharaoh'\n",
    "token = 'b61c32bd88d04ab8a01913c2b3e655b2'"
   ]
  },
  {
   "cell_type": "code",
   "execution_count": 6,
   "id": "d2f1c0a2",
   "metadata": {},
   "outputs": [],
   "source": [
    "def check_if_valid_data(df: pd.DataFrame) -> bool:\n",
    "    # Check if the dataframe is empty\n",
    "    if df.empty:\n",
    "        print(\"No songs downloaded. Finishing execution.\")\n",
    "        return False\n",
    "\n",
    "    # Check if 'played_at' column has unique values (Primary Key Check)\n",
    "    if not df['played_at'].is_unique:\n",
    "        raise ValueError(\"Primary Key check failed: duplicate values found in 'played_at'.\")\n",
    "\n",
    "    # Check for any null values in the dataframe\n",
    "    if df.isnull().values.any():\n",
    "        raise ValueError(\"Data validation failed: null values found.\")\n",
    "\n",
    "    # If all checks pass, return True\n",
    "    return True\n",
    "\n"
   ]
  },
  {
   "cell_type": "code",
   "execution_count": 8,
   "id": "bb876e87",
   "metadata": {},
   "outputs": [],
   "source": [
    "#would initially be extracting todays played songs.\n",
    "Today = datetime.datetime.now()"
   ]
  },
  {
   "cell_type": "code",
   "execution_count": null,
   "id": "ef1cad6f",
   "metadata": {},
   "outputs": [],
   "source": []
  }
 ],
 "metadata": {
  "kernelspec": {
   "display_name": "Python 3 (ipykernel)",
   "language": "python",
   "name": "python3"
  },
  "language_info": {
   "codemirror_mode": {
    "name": "ipython",
    "version": 3
   },
   "file_extension": ".py",
   "mimetype": "text/x-python",
   "name": "python",
   "nbconvert_exporter": "python",
   "pygments_lexer": "ipython3",
   "version": "3.11.4"
  }
 },
 "nbformat": 4,
 "nbformat_minor": 5
}
